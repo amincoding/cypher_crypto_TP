{
 "cells": [
  {
   "cell_type": "markdown",
   "metadata": {},
   "source": [
    "### Imports"
   ]
  },
  {
   "cell_type": "code",
   "execution_count": 29,
   "metadata": {},
   "outputs": [],
   "source": [
    "import re\n",
    "import string\n",
    "import math\n",
    "import itertools\n",
    "from collections import defaultdict, Counter\n",
    "from operator import itemgetter"
   ]
  },
  {
   "cell_type": "markdown",
   "metadata": {},
   "source": [
    "### Alphabet"
   ]
  },
  {
   "cell_type": "code",
   "execution_count": 61,
   "metadata": {},
   "outputs": [
    {
     "name": "stdout",
     "output_type": "stream",
     "text": [
      "[*] Alphabet:\n",
      "..........................\n",
      "abcdefghijklmnopqrstuvwxyz\n",
      "**************************\n"
     ]
    }
   ],
   "source": [
    "ALPHABET = string.ascii_lowercase\n",
    "print(f\"[*] Alphabet:\\n{'.'*len(ALPHABET)}\\n{ALPHABET}\\n{'*'*len(ALPHABET)}\")"
   ]
  },
  {
   "cell_type": "markdown",
   "metadata": {},
   "source": [
    "### Utils"
   ]
  },
  {
   "cell_type": "code",
   "execution_count": 62,
   "metadata": {},
   "outputs": [],
   "source": [
    "def _assert_alphabet(text):\n",
    "    assert all(c in ALPHABET for c in text)\n",
    "\n",
    "def alphabet_diff(a, b):\n",
    "    \"\"\"Compute (a - b) inside alphabet.\"\"\"\n",
    "    return ALPHABET[(ALPHABET.index(a) - ALPHABET.index(b)) % len(ALPHABET)]\n",
    "\n",
    "def alphabet_sum(a, b):\n",
    "    \"\"\"Compute (a + b) inside alphabet.\"\"\"\n",
    "    return ALPHABET[(ALPHABET.index(a) + ALPHABET.index(b)) % len(ALPHABET)]\n",
    "\n",
    "def text2message(text):\n",
    "    return \"\".join(c for c in text if c in ALPHABET)\n",
    "\n",
    "def print_enumerated(iterable, s):\n",
    "    print(f'[*] {s}:')\n",
    "    for i, item in enumerate(iterable, start=1):\n",
    "        t = str(item)\n",
    "        if len(t) > 100:\n",
    "            print(f'{i: >2}: {t[:80]}...')\n",
    "        else:\n",
    "            print(f'{i: >2}: {t}')"
   ]
  },
  {
   "cell_type": "markdown",
   "metadata": {},
   "source": [
    "### Vigener Algorithm"
   ]
  },
  {
   "cell_type": "code",
   "execution_count": 65,
   "metadata": {},
   "outputs": [],
   "source": [
    "def _vigener_encrypt(message, key):\n",
    "    \"\"\"\n",
    "    Encrypt message using `Vigener algorithm`_.\n",
    "    \n",
    "    Args:\n",
    "        message (str): Message to encrypt.\n",
    "        key (str): Secret key.\n",
    "    \n",
    "    Returns:\n",
    "        str: Encrypted message.\n",
    "    \n",
    "    .. _Vigener algorithm:\n",
    "        https://en.wikipedia.org/wiki/Vigenère_cipher\n",
    "    \"\"\"\n",
    "    \n",
    "    _assert_alphabet(message)\n",
    "    _assert_alphabet(key)\n",
    "    \n",
    "    key_len = len(key)\n",
    "    ciphertext = ''\n",
    "    \n",
    "    for i, mi in enumerate(message):\n",
    "        # Note: mi + ki = ci\n",
    "        # Note: ki = K[ki mod len(K)]\n",
    "        ki = key[i % key_len]\n",
    "        ci = alphabet_sum(mi, ki)\n",
    "        ciphertext += ci\n",
    "    \n",
    "    return ciphertext\n",
    "\n",
    "def vigener_encrypt(text, key, *, preserve_whitespace=False):\n",
    "    if preserve_whitespace:\n",
    "        wss = [m.start() for m in re.finditer(' ', text)]\n",
    "        ciphertext = vigener_encrypt(text.replace(' ', ''), key)\n",
    "        l = list(ciphertext)\n",
    "        for p in wss:\n",
    "            l.insert(p, ' ')\n",
    "        return ''.join(l)\n",
    "    else:\n",
    "        return _vigener_encrypt(text2message(text), key)"
   ]
  },
  {
   "cell_type": "markdown",
   "metadata": {},
   "source": [
    "### Test Vigener encryption"
   ]
  },
  {
   "cell_type": "code",
   "execution_count": 68,
   "metadata": {},
   "outputs": [
    {
     "name": "stdout",
     "output_type": "stream",
     "text": [
      "[*] Text: ATTACK AT DAWN\n",
      "[*] Key: LEMON\n",
      "[+] Ciphertext: lxfopv ef rnhr\n"
     ]
    },
    {
     "ename": "AssertionError",
     "evalue": "Encryption failed",
     "output_type": "error",
     "traceback": [
      "\u001b[1;31m---------------------------------------------------------------------------\u001b[0m",
      "\u001b[1;31mAssertionError\u001b[0m                            Traceback (most recent call last)",
      "\u001b[1;32m<ipython-input-68-7f1ddf0287e0>\u001b[0m in \u001b[0;36m<module>\u001b[1;34m\u001b[0m\n\u001b[0;32m      9\u001b[0m \u001b[0mprint\u001b[0m\u001b[1;33m(\u001b[0m\u001b[1;34mf\"[+] Ciphertext: {ciphertext}\"\u001b[0m\u001b[1;33m)\u001b[0m\u001b[1;33m\u001b[0m\u001b[1;33m\u001b[0m\u001b[0m\n\u001b[0;32m     10\u001b[0m \u001b[1;33m\u001b[0m\u001b[0m\n\u001b[1;32m---> 11\u001b[1;33m \u001b[1;32massert\u001b[0m \u001b[0mciphertext\u001b[0m \u001b[1;33m==\u001b[0m \u001b[0manswer\u001b[0m\u001b[1;33m,\u001b[0m \u001b[1;34m\"Encryption failed\"\u001b[0m\u001b[1;33m\u001b[0m\u001b[1;33m\u001b[0m\u001b[0m\n\u001b[0m",
      "\u001b[1;31mAssertionError\u001b[0m: Encryption failed"
     ]
    }
   ],
   "source": [
    "# Example from https://en.wikipedia.org/wiki/Vigenère_cipher\n",
    "text = \"ATTACK AT DAWN\"\n",
    "key = \"LEMON\"\n",
    "answer = \"LXFOPV EF RNHR\"\n",
    "ciphertext = vigener_encrypt(text.lower(), key.lower(), preserve_whitespace=True)\n",
    "\n",
    "print(f\"[*] Text: {text}\")\n",
    "print(f\"[*] Key: {key}\")\n",
    "print(f\"[+] Ciphertext: {ciphertext}\")\n",
    "\n",
    "assert ciphertext == answer, \"Encryption failed\""
   ]
  },
  {
   "cell_type": "markdown",
   "metadata": {},
   "source": [
    "### Encrypt some text"
   ]
  },
  {
   "cell_type": "code",
   "execution_count": 45,
   "metadata": {},
   "outputs": [],
   "source": [
    "# Texts were generated by http://metaphorpsum.com/\n",
    "# input_filename = \"input-1-20.txt\"\n",
    "# input_filename = \"input-1-30.txt\"\n",
    "input_filename = \"New Text Document.txt\"\n",
    "# input_filename = \"input-10-50.txt\"\n",
    "# input_filename = \"input-4-50.txt\""
   ]
  },
  {
   "cell_type": "code",
   "execution_count": 69,
   "metadata": {},
   "outputs": [
    {
     "name": "stdout",
     "output_type": "stream",
     "text": [
      "[*] Text: I am a third year student of computer science. I study information sec...\n",
      "[*] Message:    amathirdyearstudentofcomputersciencestudyinformationsecurityandamhappy...\n",
      "[+] Ciphertext: aprtyiuuyvaujtldhetffffmguwvrjclvntevkuuyleffrprtzoqjetuuztpaquadhdgpp...\n"
     ]
    }
   ],
   "source": [
    "with open(input_filename) as f:\n",
    "    text = f.read()\n",
    "\n",
    "message = text2message(text)\n",
    "key = \"adrar\"\n",
    "ciphertext = vigener_encrypt(text, key)\n",
    "\n",
    "# with open(\"output.txt\", \"w\") as f:\n",
    "#     f.write(ciphertext)\n",
    "\n",
    "print(f\"[*] Text: {text[:70]}...\")\n",
    "print(f\"[*] Message:    {message[:70]}...\")\n",
    "print(f\"[+] Ciphertext: {ciphertext[:70]}...\")"
   ]
  },
  {
   "cell_type": "markdown",
   "metadata": {},
   "source": [
    "### Kasiski Examination"
   ]
  },
  {
   "cell_type": "code",
   "execution_count": 70,
   "metadata": {},
   "outputs": [],
   "source": [
    "def kasiski_examination(ciphertext, seq_len, max_key_len, *, verbose=False):\n",
    "    \"\"\"\n",
    "    Find the most probable key length using `Kasiski examination`_.\n",
    "    \n",
    "    Args:\n",
    "        ciphertext (str): Vigener-ciphered text.\n",
    "        seq_len (int): Length of analyzed substrings.\n",
    "        max_key_len (int): Upper bound for the key length.\n",
    "        verbose (bool): Be verbose.\n",
    "    \n",
    "    Returns:\n",
    "        int: The most probable key length.\n",
    "    \n",
    "    .. _Kasiski examination:\n",
    "        https://en.wikipedia.org/wiki/Kasiski_examination\n",
    "    \"\"\"\n",
    "    \n",
    "    _assert_alphabet(ciphertext)\n",
    "\n",
    "    # Find positions of each substring of length `seq_len`\n",
    "    seq_positions = defaultdict(list)  # {seq: [pos]}\n",
    "    for i in range(len(ciphertext) - seq_len):\n",
    "        seq_positions[ciphertext[i : i + seq_len]].append(i)\n",
    "    \n",
    "    # Drop non-repeated sequences\n",
    "    seq_positions = {\n",
    "        seq: positions\n",
    "        for seq, positions in seq_positions.items()\n",
    "        if len(positions) >= 2\n",
    "    }\n",
    "    assert len(seq_positions) > 0, f\"No repeated sequences of length {seq_len}\"\n",
    "    \n",
    "    if verbose:\n",
    "        print(\"[*] Positions:\")\n",
    "        for seq, positions in seq_positions.items():\n",
    "            print(f\"    {seq}: {positions}\")\n",
    "\n",
    "    # Calculte spacings between subsequent positions for each sequence\n",
    "    seq_spacings = defaultdict(list)  # {seq: [space]}\n",
    "    for seq, positions in seq_positions.items():\n",
    "        for a, b in zip(positions, positions[1:]):\n",
    "            seq_spacings[seq].append(b - a)\n",
    "    \n",
    "    if verbose:\n",
    "        print(\"[*] Spacings:\")\n",
    "        for seq, spacings in seq_spacings.items():\n",
    "            print(f\"    {seq}: {spacings}\")\n",
    "    \n",
    "    # Count factors (<=max_key_len) of all spacings\n",
    "    factor_count = Counter()\n",
    "    for spacings in seq_spacings.values():\n",
    "        for space in spacings:\n",
    "            for f in range(2, min(max_key_len, int(math.sqrt(space)) + 1)):\n",
    "                if space % f == 0:\n",
    "                    factor_count[f] += 1\n",
    "    \n",
    "    if verbose:\n",
    "        print(\"[*] Factor counts:\")\n",
    "        for f, count in factor_count.items():\n",
    "            print(f\"    {f}: {count}\")\n",
    "    \n",
    "    # Find the most probable key length\n",
    "    key_len = factor_count.most_common()[0][0]\n",
    "    \n",
    "    if verbose:\n",
    "        print(f\"[+] The most probable key length: {key_len}\")\n",
    "    \n",
    "    return key_len"
   ]
  },
  {
   "cell_type": "markdown",
   "metadata": {},
   "source": [
    "### Perform Kasiski Examination"
   ]
  },
  {
   "cell_type": "code",
   "execution_count": 71,
   "metadata": {
    "scrolled": true
   },
   "outputs": [
    {
     "ename": "AssertionError",
     "evalue": "No repeated sequences of length 5",
     "output_type": "error",
     "traceback": [
      "\u001b[1;31m---------------------------------------------------------------------------\u001b[0m",
      "\u001b[1;31mAssertionError\u001b[0m                            Traceback (most recent call last)",
      "\u001b[1;32m<ipython-input-71-e1f19cb41b10>\u001b[0m in \u001b[0;36m<module>\u001b[1;34m\u001b[0m\n\u001b[1;32m----> 1\u001b[1;33m \u001b[0mprobable_key_len\u001b[0m \u001b[1;33m=\u001b[0m \u001b[0mkasiski_examination\u001b[0m\u001b[1;33m(\u001b[0m\u001b[0mciphertext\u001b[0m\u001b[1;33m,\u001b[0m \u001b[1;36m5\u001b[0m\u001b[1;33m,\u001b[0m \u001b[1;36m10\u001b[0m\u001b[1;33m,\u001b[0m \u001b[0mverbose\u001b[0m\u001b[1;33m=\u001b[0m\u001b[1;32mTrue\u001b[0m\u001b[1;33m)\u001b[0m\u001b[1;33m\u001b[0m\u001b[1;33m\u001b[0m\u001b[0m\n\u001b[0m",
      "\u001b[1;32m<ipython-input-70-f7f4fdfae5b1>\u001b[0m in \u001b[0;36mkasiski_examination\u001b[1;34m(ciphertext, seq_len, max_key_len, verbose)\u001b[0m\n\u001b[0;32m     29\u001b[0m         \u001b[1;32mif\u001b[0m \u001b[0mlen\u001b[0m\u001b[1;33m(\u001b[0m\u001b[0mpositions\u001b[0m\u001b[1;33m)\u001b[0m \u001b[1;33m>=\u001b[0m \u001b[1;36m2\u001b[0m\u001b[1;33m\u001b[0m\u001b[1;33m\u001b[0m\u001b[0m\n\u001b[0;32m     30\u001b[0m     }\n\u001b[1;32m---> 31\u001b[1;33m     \u001b[1;32massert\u001b[0m \u001b[0mlen\u001b[0m\u001b[1;33m(\u001b[0m\u001b[0mseq_positions\u001b[0m\u001b[1;33m)\u001b[0m \u001b[1;33m>\u001b[0m \u001b[1;36m0\u001b[0m\u001b[1;33m,\u001b[0m \u001b[1;34mf\"No repeated sequences of length {seq_len}\"\u001b[0m\u001b[1;33m\u001b[0m\u001b[1;33m\u001b[0m\u001b[0m\n\u001b[0m\u001b[0;32m     32\u001b[0m \u001b[1;33m\u001b[0m\u001b[0m\n\u001b[0;32m     33\u001b[0m     \u001b[1;32mif\u001b[0m \u001b[0mverbose\u001b[0m\u001b[1;33m:\u001b[0m\u001b[1;33m\u001b[0m\u001b[1;33m\u001b[0m\u001b[0m\n",
      "\u001b[1;31mAssertionError\u001b[0m: No repeated sequences of length 5"
     ]
    }
   ],
   "source": [
    "probable_key_len = kasiski_examination(ciphertext, 5, 10, verbose=True)"
   ]
  },
  {
   "cell_type": "code",
   "execution_count": 74,
   "metadata": {},
   "outputs": [
    {
     "data": {
      "text/plain": [
       "3"
      ]
     },
     "execution_count": 74,
     "metadata": {},
     "output_type": "execute_result"
    }
   ],
   "source": [
    "probable_key_len = kasiski_examination(ciphertext, 3, 10)\n",
    "probable_key_len"
   ]
  },
  {
   "cell_type": "markdown",
   "metadata": {},
   "source": [
    "### Frequence Analysis"
   ]
  },
  {
   "cell_type": "code",
   "execution_count": 75,
   "metadata": {},
   "outputs": [],
   "source": [
    "def _freq(text):\n",
    "    return Counter(text)\n",
    "\n",
    "def _blocks(ciphertext, key_len):\n",
    "    return [''.join(ciphertext[shift + i]\n",
    "                    for i in range(0, len(ciphertext) - shift, key_len))\n",
    "            for shift in range(key_len)]\n",
    "\n",
    "def frequency_analysis(ciphertext, key_len, text_freq, *, verbose=False):\n",
    "    \"\"\"\n",
    "    Find the most probable key using `frequency analysis`_.\n",
    "    \n",
    "    Args:\n",
    "        ciphertext (str): Vigener-ciphered text.\n",
    "        key_len (int): Key length.\n",
    "        text_freq (collections.Counter): Estimated table of letter frequencies.\n",
    "    \n",
    "    Returns:\n",
    "        str: The most probable key found by `frequency analysis`_.\n",
    "    \n",
    "    .. _frequency analysis:\n",
    "        https://en.wikipedia.org/wiki/Frequency_analysis\n",
    "    \"\"\"\n",
    "    \n",
    "    _assert_alphabet(ciphertext)\n",
    "    \n",
    "    blocks = _blocks(ciphertext, key_len)\n",
    "    block_freqs = [_freq(block) for block in blocks]\n",
    "    most_common_letter = text_freq.most_common()[0][0]\n",
    "    \n",
    "    if verbose:\n",
    "        print_enumerated(blocks, 'Blocks')\n",
    "        print(\"[*] Block frequencies (most common):\")\n",
    "        for i, block_freq in enumerate(block_freqs, start=1):\n",
    "            print(f\"{i: >2}: {block_freq.most_common(7)}\")\n",
    "        print(f\"[*] Most common letter in original text: '{most_common_letter}'\")\n",
    "    \n",
    "    # Find the most probable key\n",
    "    key = ''\n",
    "    for i, block in enumerate(blocks):\n",
    "        # Note: mi + ki = ci, then ki = ci - mi\n",
    "        ci = block_freqs[i].most_common()[0][0]\n",
    "        ki = alphabet_diff(ci, most_common_letter)\n",
    "        key += ki\n",
    "    \n",
    "    if verbose:\n",
    "        print(f\"[+] Most probable key: '{key}'\")\n",
    "    \n",
    "    return key"
   ]
  },
  {
   "cell_type": "code",
   "execution_count": 76,
   "metadata": {},
   "outputs": [
    {
     "data": {
      "text/plain": [
       "[('e', 13), ('t', 12), ('a', 7), ('m', 7), ('i', 7), ('r', 7), ('n', 7)]"
      ]
     },
     "execution_count": 76,
     "metadata": {},
     "output_type": "execute_result"
    }
   ],
   "source": [
    "text_freq = _freq(message)\n",
    "text_freq.most_common(7)"
   ]
  },
  {
   "cell_type": "code",
   "execution_count": 79,
   "metadata": {},
   "outputs": [
    {
     "name": "stdout",
     "output_type": "stream",
     "text": [
      "[*] Blocks:\n",
      " 1: aiadfuceyrouahtltgett\n",
      " 2: puuhfwlvlpquqdrhwhfrh\n",
      " 3: rujefvvkerjzugzdyeijd\n",
      " 4: tyttmrnuftetapmeeeyy\n",
      " 5: yvlfgjtufztpdpgezigj\n",
      "[*] Block frequencies (most common):\n",
      " 1: [('t', 4), ('a', 3), ('u', 2), ('e', 2), ('i', 1), ('d', 1), ('f', 1)]\n",
      " 2: [('h', 4), ('u', 3), ('p', 2), ('f', 2), ('w', 2), ('l', 2), ('q', 2)]\n",
      " 3: [('j', 3), ('e', 3), ('r', 2), ('u', 2), ('v', 2), ('z', 2), ('d', 2)]\n",
      " 4: [('t', 5), ('e', 4), ('y', 3), ('m', 2), ('r', 1), ('n', 1), ('u', 1)]\n",
      " 5: [('g', 3), ('f', 2), ('j', 2), ('t', 2), ('z', 2), ('p', 2), ('y', 1)]\n",
      "[*] Most common letter in original text: 'e'\n",
      "[+] Most probable key: 'pdfpc'\n"
     ]
    }
   ],
   "source": [
    "probable_key = frequency_analysis(ciphertext, 5, text_freq, verbose=True)"
   ]
  },
  {
   "cell_type": "code",
   "execution_count": 80,
   "metadata": {},
   "outputs": [
    {
     "data": {
      "text/plain": [
       "'pdfpc'"
      ]
     },
     "execution_count": 80,
     "metadata": {},
     "output_type": "execute_result"
    }
   ],
   "source": [
    "probable_key"
   ]
  },
  {
   "cell_type": "markdown",
   "metadata": {},
   "source": [
    "### Decrypt message"
   ]
  },
  {
   "cell_type": "code",
   "execution_count": 15,
   "metadata": {},
   "outputs": [],
   "source": [
    "def vigener_decrypt(ciphertext, key):\n",
    "    \"\"\"\n",
    "    Decrypt Vigener-ciphered text.\n",
    "    \n",
    "    Args:\n",
    "        ciphertext (str): Vigener-ciphered text.\n",
    "        key (int): Secret key.\n",
    "    \n",
    "    Returns:\n",
    "        str: Decrypted message.\n",
    "    \"\"\"\n",
    "    \n",
    "    key_len = len(key)\n",
    "    message = ''\n",
    "    \n",
    "    for i, ci in enumerate(ciphertext):\n",
    "        # Note: mi + ki = ci, then mi = ci - ki\n",
    "        ki = key[i % key_len]\n",
    "        mi = alphabet_diff(ci, ki)\n",
    "        message += mi\n",
    "    \n",
    "    return message"
   ]
  },
  {
   "cell_type": "code",
   "execution_count": 16,
   "metadata": {},
   "outputs": [
    {
     "name": "stdout",
     "output_type": "stream",
     "text": [
      "[*] Text:       Some posit the croaky wedge to be less than funded. One cannot separat...\n",
      "[*] Message:    SOMEPOSITTHECROAKYWEDGETOBELESSTHANFUNDEDONECANNOTSEPARATEALGERIASFROM...\n",
      "[*] Ciphertext: ECGWTAGCLXTSWJSMYSOIPUYLSNSFWWEHBSRRIHVIPCHWGMBHGXESJSVMHYSPSSLAEETLGQ...\n",
      "[+] Decrypted:  SOMEPOSITTHECROAKYWEDGETOBELESSTHANFUNDEDONECANNOTSEPARATEALGERIASFROM...\n"
     ]
    }
   ],
   "source": [
    "decrypted_message = vigener_decrypt(ciphertext, probable_key)\n",
    "\n",
    "print(f\"[*] Text:       {text[:70]}...\")\n",
    "print(f\"[*] Message:    {message[:70]}...\")\n",
    "print(f\"[*] Ciphertext: {ciphertext[:70]}...\")\n",
    "print(f\"[+] Decrypted:  {decrypted_message[:70]}...\")\n",
    "\n",
    "assert decrypted_message == message, \"Decryption failed\""
   ]
  }
 ],
 "metadata": {
  "kernelspec": {
   "display_name": "Python 3",
   "language": "python",
   "name": "python3"
  },
  "language_info": {
   "codemirror_mode": {
    "name": "ipython",
    "version": 3
   },
   "file_extension": ".py",
   "mimetype": "text/x-python",
   "name": "python",
   "nbconvert_exporter": "python",
   "pygments_lexer": "ipython3",
   "version": "3.8.5"
  }
 },
 "nbformat": 4,
 "nbformat_minor": 4
}
